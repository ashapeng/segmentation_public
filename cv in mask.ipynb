{
 "cells": [
  {
   "cell_type": "code",
   "execution_count": null,
   "metadata": {},
   "outputs": [],
   "source": [
    "# import some basic functions\n",
    "import os\n",
    "import numpy as np\n",
    "import re\n",
    "from skimage import io\n",
    "import math\n",
    "import pandas as pd"
   ]
  },
  {
   "cell_type": "code",
   "execution_count": null,
   "metadata": {},
   "outputs": [],
   "source": [
    "def coefficient_of_variances(gc_mask: np.ndarray, img: np.ndarray, cell_id: str, measured_parameters: List):\n",
    "    \"\"\"\n",
    "    Parameters:\n",
    "    -----------\n",
    "    gc_mask: 3D array\n",
    "        the gc mask has been filled holes\n",
    "    img: nD array\n",
    "        3 channel stacked image\n",
    "    radius: int\n",
    "        the dilation radius\n",
    "    cell_id: str\n",
    "        the id of the cell: in the form of: 'experiment_set'_'cell folder'\n",
    "    measured_parameters: List\n",
    "        list of parameters: [\"cell_id\", \"cv_r\", \"cv_g\", \"cv_b\", \"qcd_r\", \"qcd_g\", \"qcd_b\"]\n",
    "    \n",
    "    Returns:\n",
    "    --------\n",
    "    cv: list\n",
    "        list of cv of each channel as the order: r,g,b\n",
    "    qcd: list\n",
    "        list of qcd of each channel as the order: r,g,b\n",
    "    \"\"\"\n",
    "    ################################\n",
    "    # process mask                 #\n",
    "    ################################\n",
    "    mask_size = np.count_nonzero(gc_mask)*(0.2*0.08*0.08)\n",
    "\n",
    "    # extract gray value of each channel from dilated mask\n",
    "    raw_red_in_mask = img[...,0][gc_mask>0]\n",
    "    raw_green_in_mask = img[...,1][gc_mask>0]\n",
    "    raw_blue_in_mask = img[...,2][gc_mask>0]\n",
    "\n",
    "    ################################\n",
    "    # process mask   done          #\n",
    "    ################################\n",
    "    # create a pd_dataframe to store measurements\n",
    "    variables: Dict[str, Any] = {}\n",
    "    for key in measured_parameters:\n",
    "        variables[key] = None\n",
    "    df = pd.DataFrame(variables, index=[0]) \n",
    "\n",
    "    # measure coefficient of variance\n",
    "    cv_r = round(np.std(raw_red_in_mask)/np.mean(raw_red_in_mask),3)\n",
    "    cv_g = round(np.std(raw_green_in_mask)/np.mean(raw_green_in_mask),3)\n",
    "    cv_b = round(np.std(raw_blue_in_mask)/np.mean(raw_blue_in_mask),3)\n",
    "\n",
    "    # measure quartile coefficient of dispersion, Q3-Q1/Q3+Q1, descriptive measurement of dispersion,less sensitive to outliers\n",
    "    qcd_r = round((np.quantile(raw_red_in_mask,0.75)-np.quantile(raw_red_in_mask,0.25))/(np.quantile(raw_red_in_mask,0.75)+np.quantile(raw_red_in_mask,0.25)),3)\n",
    "    qcd_g = round((np.quantile(raw_green_in_mask,0.75)-np.quantile(raw_green_in_mask,0.25))/(np.quantile(raw_green_in_mask,0.75)+np.quantile(raw_green_in_mask,0.25)),3)\n",
    "    qcd_b = round((np.quantile(raw_blue_in_mask,0.75)-np.quantile(raw_blue_in_mask,0.25))/(np.quantile(raw_blue_in_mask,0.75)+np.quantile(raw_blue_in_mask,0.25)),3)\n",
    "\n",
    "    # store values in the pd_dataframe\n",
    "    df.loc[0,df.columns] = pd.Series([cell_id,cv_r,cv_g,cv_b,qcd_r,qcd_g,qcd_b],index=df.columns)\n",
    "\n",
    "    return df"
   ]
  },
  {
   "cell_type": "code",
   "execution_count": null,
   "metadata": {},
   "outputs": [],
   "source": [
    "# measure cv and generate dataframe\n",
    "cv_df = coefficient_of_variances(gc_mask, raw_bg_subtracted, cell_id=cell_id,measured_parameters = [\"cell_id\", \"cv_r\", \"cv_g\", \"cv_b\", \"qcd_r\", \"qcd_g\", \"qcd_b\"])"
   ]
  }
 ],
 "metadata": {
  "language_info": {
   "name": "python"
  },
  "orig_nbformat": 4
 },
 "nbformat": 4,
 "nbformat_minor": 2
}
